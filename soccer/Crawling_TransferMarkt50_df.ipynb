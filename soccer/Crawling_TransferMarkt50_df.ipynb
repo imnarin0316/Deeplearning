{
 "cells": [
  {
   "cell_type": "markdown",
   "id": "052a6566",
   "metadata": {},
   "source": [
    "## 다른 방식으로 DataFrame 만들기(리스트 안에 리스트)"
   ]
  },
  {
   "cell_type": "code",
   "execution_count": 3,
   "id": "f78ec9dc",
   "metadata": {},
   "outputs": [],
   "source": [
    "import requests\n",
    "from bs4 import BeautifulSoup\n",
    "import pandas as pd\n",
    "import time"
   ]
  },
  {
   "cell_type": "code",
   "execution_count": 4,
   "id": "355c0268",
   "metadata": {
    "collapsed": true
   },
   "outputs": [
    {
     "ename": "SyntaxError",
     "evalue": "invalid syntax (3670978267.py, line 2)",
     "output_type": "error",
     "traceback": [
      "\u001b[1;36m  Cell \u001b[1;32mIn[4], line 2\u001b[1;36m\u001b[0m\n\u001b[1;33m    https://www.transfermarkt.com/spieler-statistik/wertvollstespieler/marktwertetop?page=2\u001b[0m\n\u001b[1;37m          ^\u001b[0m\n\u001b[1;31mSyntaxError\u001b[0m\u001b[1;31m:\u001b[0m invalid syntax\n"
     ]
    }
   ],
   "source": [
    "# 두번째 페이지 주소\n",
    "https://www.transfermarkt.com/spieler-statistik/wertvollstespieler/marktwertetop?page=2\n",
    "\n",
    "# ?page=2 이부분이 페이지 주소를 나타내고 있음.\n",
    "\n",
    "    "
   ]
  },
  {
   "cell_type": "code",
   "execution_count": 10,
   "id": "73451f84",
   "metadata": {},
   "outputs": [],
   "source": [
    "# 구글 검색창에 입력한 my users agent 정보를 headers에 설정\n",
    "headers = {'User-Agent': 'Mozilla/5.0 (Windows NT 10.0; Win64; x64) AppleWebKit/537.36 (KHTML, like Gecko) Chrome/116.0.0.0 Whale/3.22.205.26 Safari/537.36'}\n",
    "\n",
    "player_list = []\n",
    "    \n",
    "for i in range(1, 3):\n",
    "    # 크롤링할 페이지가 있는 주소값을 넣기\n",
    "    url = f\"https://www.transfermarkt.com/spieler-statistik/wertvollstespieler/marktwertetop?page={i}\"\n",
    "\n",
    "    r = requests.get(url, headers=headers)\n",
    "    r.status_code\n",
    "\n",
    "    # 분석할 html 소스 가져오기\n",
    "    soup = BeautifulSoup(r.text, 'html.parser')\n",
    "\n",
    "    # 선수들의 정보가 담긴 태그와 class_ 찾기\n",
    "    player_info = soup.find_all('tr', class_={'odd', 'even'})\n",
    "\n",
    "\n",
    "    # player_info에서 'td' 태그만 모두 찾기\n",
    "    for info in player_info:\n",
    "        player = info.find_all(\"td\")\n",
    "\n",
    "        number = player[0].text\n",
    "        name = player[3].text\n",
    "        position = player[4].text\n",
    "        age = player[5].text\n",
    "        nation = player[6].img['alt']\n",
    "        team = player[7].img['alt']\n",
    "        value = player[8].text.strip() #strip() 앞뒤 공백 제거\n",
    "        value = value[1:-1]\n",
    "        \n",
    "        player_list.append([number, name, position, age, nation, team, value])\n",
    "\n",
    "    time.sleep(1)    \n",
    "    \n",
    "#pd.DataFrame()으로 저장하기\n",
    "df2 = pd.DataFrame(player_list, columns=['number', 'name', 'position', 'age', 'nation', 'team', 'value'])\n",
    "df2\n",
    "\n",
    "#df.csv() 파일로 저장하기\n",
    "df2.to_csv('transfermark50.csv', index=False)"
   ]
  },
  {
   "cell_type": "code",
   "execution_count": null,
   "id": "0611d78d",
   "metadata": {},
   "outputs": [],
   "source": []
  },
  {
   "cell_type": "code",
   "execution_count": null,
   "id": "df908dc9",
   "metadata": {},
   "outputs": [],
   "source": []
  },
  {
   "cell_type": "code",
   "execution_count": null,
   "id": "45cd72fe",
   "metadata": {},
   "outputs": [],
   "source": []
  },
  {
   "cell_type": "code",
   "execution_count": null,
   "id": "50a1d9f9",
   "metadata": {},
   "outputs": [],
   "source": []
  },
  {
   "cell_type": "code",
   "execution_count": null,
   "id": "a6bd62e0",
   "metadata": {},
   "outputs": [],
   "source": []
  }
 ],
 "metadata": {
  "kernelspec": {
   "display_name": "Python 3 (ipykernel)",
   "language": "python",
   "name": "python3"
  },
  "language_info": {
   "codemirror_mode": {
    "name": "ipython",
    "version": 3
   },
   "file_extension": ".py",
   "mimetype": "text/x-python",
   "name": "python",
   "nbconvert_exporter": "python",
   "pygments_lexer": "ipython3",
   "version": "3.11.4"
  }
 },
 "nbformat": 4,
 "nbformat_minor": 5
}
